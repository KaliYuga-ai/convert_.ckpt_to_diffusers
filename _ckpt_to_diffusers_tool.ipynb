{
  "nbformat": 4,
  "nbformat_minor": 0,
  "metadata": {
    "colab": {
      "provenance": [],
      "authorship_tag": "ABX9TyMU9YeCyxIV2SFQOhpQeVy9",
      "include_colab_link": true
    },
    "kernelspec": {
      "name": "python3",
      "display_name": "Python 3"
    },
    "language_info": {
      "name": "python"
    }
  },
  "cells": [
    {
      "cell_type": "markdown",
      "metadata": {
        "id": "view-in-github",
        "colab_type": "text"
      },
      "source": [
        "<a href=\"https://colab.research.google.com/github/KaliYuga-ai/convert_.ckpt_to_diffusers/blob/main/_ckpt_to_diffusers_tool.ipynb\" target=\"_parent\"><img src=\"https://colab.research.google.com/assets/colab-badge.svg\" alt=\"Open In Colab\"/></a>"
      ]
    },
    {
      "cell_type": "markdown",
      "source": [
        "# Convert .ckpt Files to Diffuser Format\n",
        "\n",
        "KaliYuga's simple implementation of the official huggingface diffusers repo conversion script found [here](https://github.com/huggingface/diffusers/blob/main/scripts/convert_original_stable_diffusion_to_diffusers.py). "
      ],
      "metadata": {
        "id": "cKOuFCmFHJs1"
      }
    },
    {
      "cell_type": "code",
      "execution_count": null,
      "metadata": {
        "id": "mbhAf7PcBLkr"
      },
      "outputs": [],
      "source": [
        "from google.colab import drive\n",
        "drive.mount('/content/drive')\n"
      ]
    },
    {
      "cell_type": "code",
      "source": [
        "!pip install git+https://github.com/huggingface/diffusers.git transformers\n",
        "!pip install omegaconf\n",
        "\n",
        "import os\n",
        "\n",
        "# Clone the repo\n",
        "!git clone https://github.com/huggingface/diffusers.git\n",
        "\n",
        "# Change directory to scripts directory\n",
        "os.chdir('/content/diffusers/scripts')\n",
        "\n",
        "# Run the conversion script\n",
        "!python convert_original_stable_diffusion_to_diffusers.py \\\n",
        "    --checkpoint_path \"/content/drive/MyDrive/YourOriginalCheckpoint.ckpt\" \\\n",
        "    --dump_path \"/content/drive/MyDrive/YourOriginalCheckpoint_diffusers_folder\""
      ],
      "metadata": {
        "id": "w0S8hrGGBPfM"
      },
      "execution_count": null,
      "outputs": []
    }
  ]
}